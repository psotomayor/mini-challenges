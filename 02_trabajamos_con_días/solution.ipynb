{
 "cells": [
  {
   "cell_type": "markdown",
   "metadata": {},
   "source": [
    "## Solución"
   ]
  },
  {
   "cell_type": "code",
   "execution_count": 5,
   "metadata": {},
   "outputs": [],
   "source": [
    "# Importamos las librerías\n",
    "\n",
    "import pandas as pd\n",
    "import datetime as dt\n",
    "from funpymodeling.exploratory import freq_tbl, status, profiling_num, cat_vars, num_vars"
   ]
  },
  {
   "cell_type": "markdown",
   "metadata": {},
   "source": [
    "## **Ejercicio 1**"
   ]
  },
  {
   "cell_type": "markdown",
   "metadata": {},
   "source": [
    "#### 1. Carga y exploración de datos"
   ]
  },
  {
   "cell_type": "code",
   "execution_count": 3,
   "metadata": {},
   "outputs": [
    {
     "data": {
      "text/html": [
       "<div>\n",
       "<style scoped>\n",
       "    .dataframe tbody tr th:only-of-type {\n",
       "        vertical-align: middle;\n",
       "    }\n",
       "\n",
       "    .dataframe tbody tr th {\n",
       "        vertical-align: top;\n",
       "    }\n",
       "\n",
       "    .dataframe thead th {\n",
       "        text-align: right;\n",
       "    }\n",
       "</style>\n",
       "<table border=\"1\" class=\"dataframe\">\n",
       "  <thead>\n",
       "    <tr style=\"text-align: right;\">\n",
       "      <th></th>\n",
       "      <th>Date</th>\n",
       "      <th>Longitude</th>\n",
       "      <th>Latitude</th>\n",
       "      <th>Elevation</th>\n",
       "      <th>Max Temperature</th>\n",
       "      <th>Min Temperature</th>\n",
       "      <th>Precipitation</th>\n",
       "      <th>Wind</th>\n",
       "      <th>Relative Humidity</th>\n",
       "      <th>Solar</th>\n",
       "      <th>Unnamed: 10</th>\n",
       "    </tr>\n",
       "  </thead>\n",
       "  <tbody>\n",
       "    <tr>\n",
       "      <th>0</th>\n",
       "      <td>1/1/1979</td>\n",
       "      <td>-62.1875</td>\n",
       "      <td>-30.442301</td>\n",
       "      <td>75</td>\n",
       "      <td>34.968</td>\n",
       "      <td>18.019</td>\n",
       "      <td>0.346756</td>\n",
       "      <td>3.459731</td>\n",
       "      <td>0.539945</td>\n",
       "      <td>32.456311</td>\n",
       "      <td>NaN</td>\n",
       "    </tr>\n",
       "    <tr>\n",
       "      <th>1</th>\n",
       "      <td>1/2/1979</td>\n",
       "      <td>-62.1875</td>\n",
       "      <td>-30.442301</td>\n",
       "      <td>75</td>\n",
       "      <td>32.055</td>\n",
       "      <td>21.653</td>\n",
       "      <td>10.099693</td>\n",
       "      <td>3.182952</td>\n",
       "      <td>0.810696</td>\n",
       "      <td>20.985752</td>\n",
       "      <td>NaN</td>\n",
       "    </tr>\n",
       "    <tr>\n",
       "      <th>2</th>\n",
       "      <td>1/3/1979</td>\n",
       "      <td>-62.1875</td>\n",
       "      <td>-30.442301</td>\n",
       "      <td>75</td>\n",
       "      <td>32.643</td>\n",
       "      <td>19.994</td>\n",
       "      <td>0.000000</td>\n",
       "      <td>3.529763</td>\n",
       "      <td>0.638956</td>\n",
       "      <td>28.406983</td>\n",
       "      <td>NaN</td>\n",
       "    </tr>\n",
       "    <tr>\n",
       "      <th>3</th>\n",
       "      <td>1/4/1979</td>\n",
       "      <td>-62.1875</td>\n",
       "      <td>-30.442301</td>\n",
       "      <td>75</td>\n",
       "      <td>33.438</td>\n",
       "      <td>19.572</td>\n",
       "      <td>0.000000</td>\n",
       "      <td>3.430782</td>\n",
       "      <td>0.480420</td>\n",
       "      <td>30.222842</td>\n",
       "      <td>NaN</td>\n",
       "    </tr>\n",
       "    <tr>\n",
       "      <th>4</th>\n",
       "      <td>1/5/1979</td>\n",
       "      <td>-62.1875</td>\n",
       "      <td>-30.442301</td>\n",
       "      <td>75</td>\n",
       "      <td>35.729</td>\n",
       "      <td>20.306</td>\n",
       "      <td>0.000000</td>\n",
       "      <td>3.149614</td>\n",
       "      <td>0.445070</td>\n",
       "      <td>30.734881</td>\n",
       "      <td>NaN</td>\n",
       "    </tr>\n",
       "  </tbody>\n",
       "</table>\n",
       "</div>"
      ],
      "text/plain": [
       "       Date  Longitude   Latitude  Elevation  Max Temperature  \\\n",
       "0  1/1/1979   -62.1875 -30.442301         75           34.968   \n",
       "1  1/2/1979   -62.1875 -30.442301         75           32.055   \n",
       "2  1/3/1979   -62.1875 -30.442301         75           32.643   \n",
       "3  1/4/1979   -62.1875 -30.442301         75           33.438   \n",
       "4  1/5/1979   -62.1875 -30.442301         75           35.729   \n",
       "\n",
       "   Min Temperature  Precipitation      Wind  Relative Humidity      Solar  \\\n",
       "0           18.019       0.346756  3.459731           0.539945  32.456311   \n",
       "1           21.653      10.099693  3.182952           0.810696  20.985752   \n",
       "2           19.994       0.000000  3.529763           0.638956  28.406983   \n",
       "3           19.572       0.000000  3.430782           0.480420  30.222842   \n",
       "4           20.306       0.000000  3.149614           0.445070  30.734881   \n",
       "\n",
       "   Unnamed: 10  \n",
       "0          NaN  \n",
       "1          NaN  \n",
       "2          NaN  \n",
       "3          NaN  \n",
       "4          NaN  "
      ]
     },
     "execution_count": 3,
     "metadata": {},
     "output_type": "execute_result"
    }
   ],
   "source": [
    "ruta = \"https://raw.githubusercontent.com/nico-edvai/scipy-2022-salta/main/data/weatherdata--304-622.csv\"\n",
    "df_weather = pd.read_csv(ruta)\n",
    "df_weather.head(5)"
   ]
  },
  {
   "cell_type": "code",
   "execution_count": 4,
   "metadata": {},
   "outputs": [
    {
     "data": {
      "text/html": [
       "<div>\n",
       "<style scoped>\n",
       "    .dataframe tbody tr th:only-of-type {\n",
       "        vertical-align: middle;\n",
       "    }\n",
       "\n",
       "    .dataframe tbody tr th {\n",
       "        vertical-align: top;\n",
       "    }\n",
       "\n",
       "    .dataframe thead th {\n",
       "        text-align: right;\n",
       "    }\n",
       "</style>\n",
       "<table border=\"1\" class=\"dataframe\">\n",
       "  <thead>\n",
       "    <tr style=\"text-align: right;\">\n",
       "      <th></th>\n",
       "      <th>variable</th>\n",
       "      <th>q_nan</th>\n",
       "      <th>p_nan</th>\n",
       "      <th>q_zeros</th>\n",
       "      <th>p_zeros</th>\n",
       "      <th>unique</th>\n",
       "      <th>type</th>\n",
       "    </tr>\n",
       "  </thead>\n",
       "  <tbody>\n",
       "    <tr>\n",
       "      <th>0</th>\n",
       "      <td>Date</td>\n",
       "      <td>0</td>\n",
       "      <td>0.0</td>\n",
       "      <td>0</td>\n",
       "      <td>0.000000</td>\n",
       "      <td>12987</td>\n",
       "      <td>object</td>\n",
       "    </tr>\n",
       "    <tr>\n",
       "      <th>1</th>\n",
       "      <td>Longitude</td>\n",
       "      <td>0</td>\n",
       "      <td>0.0</td>\n",
       "      <td>0</td>\n",
       "      <td>0.000000</td>\n",
       "      <td>1</td>\n",
       "      <td>float64</td>\n",
       "    </tr>\n",
       "    <tr>\n",
       "      <th>2</th>\n",
       "      <td>Latitude</td>\n",
       "      <td>0</td>\n",
       "      <td>0.0</td>\n",
       "      <td>0</td>\n",
       "      <td>0.000000</td>\n",
       "      <td>1</td>\n",
       "      <td>float64</td>\n",
       "    </tr>\n",
       "    <tr>\n",
       "      <th>3</th>\n",
       "      <td>Elevation</td>\n",
       "      <td>0</td>\n",
       "      <td>0.0</td>\n",
       "      <td>0</td>\n",
       "      <td>0.000000</td>\n",
       "      <td>1</td>\n",
       "      <td>int64</td>\n",
       "    </tr>\n",
       "    <tr>\n",
       "      <th>4</th>\n",
       "      <td>Max Temperature</td>\n",
       "      <td>0</td>\n",
       "      <td>0.0</td>\n",
       "      <td>0</td>\n",
       "      <td>0.000000</td>\n",
       "      <td>10537</td>\n",
       "      <td>float64</td>\n",
       "    </tr>\n",
       "    <tr>\n",
       "      <th>5</th>\n",
       "      <td>Min Temperature</td>\n",
       "      <td>0</td>\n",
       "      <td>0.0</td>\n",
       "      <td>0</td>\n",
       "      <td>0.000000</td>\n",
       "      <td>9952</td>\n",
       "      <td>float64</td>\n",
       "    </tr>\n",
       "    <tr>\n",
       "      <th>6</th>\n",
       "      <td>Precipitation</td>\n",
       "      <td>0</td>\n",
       "      <td>0.0</td>\n",
       "      <td>7646</td>\n",
       "      <td>0.588743</td>\n",
       "      <td>4547</td>\n",
       "      <td>float64</td>\n",
       "    </tr>\n",
       "    <tr>\n",
       "      <th>7</th>\n",
       "      <td>Wind</td>\n",
       "      <td>0</td>\n",
       "      <td>0.0</td>\n",
       "      <td>0</td>\n",
       "      <td>0.000000</td>\n",
       "      <td>12987</td>\n",
       "      <td>float64</td>\n",
       "    </tr>\n",
       "    <tr>\n",
       "      <th>8</th>\n",
       "      <td>Relative Humidity</td>\n",
       "      <td>0</td>\n",
       "      <td>0.0</td>\n",
       "      <td>0</td>\n",
       "      <td>0.000000</td>\n",
       "      <td>12987</td>\n",
       "      <td>float64</td>\n",
       "    </tr>\n",
       "    <tr>\n",
       "      <th>9</th>\n",
       "      <td>Solar</td>\n",
       "      <td>0</td>\n",
       "      <td>0.0</td>\n",
       "      <td>1</td>\n",
       "      <td>0.000077</td>\n",
       "      <td>12986</td>\n",
       "      <td>float64</td>\n",
       "    </tr>\n",
       "    <tr>\n",
       "      <th>10</th>\n",
       "      <td>Unnamed: 10</td>\n",
       "      <td>12987</td>\n",
       "      <td>1.0</td>\n",
       "      <td>0</td>\n",
       "      <td>0.000000</td>\n",
       "      <td>0</td>\n",
       "      <td>float64</td>\n",
       "    </tr>\n",
       "  </tbody>\n",
       "</table>\n",
       "</div>"
      ],
      "text/plain": [
       "             variable  q_nan  p_nan  q_zeros   p_zeros  unique     type\n",
       "0                Date      0    0.0        0  0.000000   12987   object\n",
       "1           Longitude      0    0.0        0  0.000000       1  float64\n",
       "2            Latitude      0    0.0        0  0.000000       1  float64\n",
       "3           Elevation      0    0.0        0  0.000000       1    int64\n",
       "4     Max Temperature      0    0.0        0  0.000000   10537  float64\n",
       "5     Min Temperature      0    0.0        0  0.000000    9952  float64\n",
       "6       Precipitation      0    0.0     7646  0.588743    4547  float64\n",
       "7                Wind      0    0.0        0  0.000000   12987  float64\n",
       "8   Relative Humidity      0    0.0        0  0.000000   12987  float64\n",
       "9               Solar      0    0.0        1  0.000077   12986  float64\n",
       "10        Unnamed: 10  12987    1.0        0  0.000000       0  float64"
      ]
     },
     "execution_count": 4,
     "metadata": {},
     "output_type": "execute_result"
    }
   ],
   "source": [
    "status(df_weather)"
   ]
  },
  {
   "cell_type": "markdown",
   "metadata": {},
   "source": [
    "Tenemos 11 variables, 1 de tipo categórico (Date) y el resto de tipo numérico."
   ]
  },
  {
   "cell_type": "markdown",
   "metadata": {},
   "source": [
    "#### 2. Convertimos el atributo 'Date' a tipo datetime"
   ]
  },
  {
   "cell_type": "code",
   "execution_count": 6,
   "metadata": {},
   "outputs": [],
   "source": [
    "df_weather['Date'] = pd.to_datetime(df_weather['Date'])"
   ]
  },
  {
   "cell_type": "code",
   "execution_count": 8,
   "metadata": {},
   "outputs": [
    {
     "data": {
      "text/html": [
       "<div>\n",
       "<style scoped>\n",
       "    .dataframe tbody tr th:only-of-type {\n",
       "        vertical-align: middle;\n",
       "    }\n",
       "\n",
       "    .dataframe tbody tr th {\n",
       "        vertical-align: top;\n",
       "    }\n",
       "\n",
       "    .dataframe thead th {\n",
       "        text-align: right;\n",
       "    }\n",
       "</style>\n",
       "<table border=\"1\" class=\"dataframe\">\n",
       "  <thead>\n",
       "    <tr style=\"text-align: right;\">\n",
       "      <th></th>\n",
       "      <th>Date</th>\n",
       "      <th>Longitude</th>\n",
       "      <th>Latitude</th>\n",
       "      <th>Elevation</th>\n",
       "      <th>Max Temperature</th>\n",
       "      <th>Min Temperature</th>\n",
       "      <th>Precipitation</th>\n",
       "      <th>Wind</th>\n",
       "      <th>Relative Humidity</th>\n",
       "      <th>Solar</th>\n",
       "      <th>Unnamed: 10</th>\n",
       "    </tr>\n",
       "  </thead>\n",
       "  <tbody>\n",
       "    <tr>\n",
       "      <th>0</th>\n",
       "      <td>1979-01-01</td>\n",
       "      <td>-62.1875</td>\n",
       "      <td>-30.442301</td>\n",
       "      <td>75</td>\n",
       "      <td>34.968</td>\n",
       "      <td>18.019</td>\n",
       "      <td>0.346756</td>\n",
       "      <td>3.459731</td>\n",
       "      <td>0.539945</td>\n",
       "      <td>32.456311</td>\n",
       "      <td>NaN</td>\n",
       "    </tr>\n",
       "    <tr>\n",
       "      <th>1</th>\n",
       "      <td>1979-01-02</td>\n",
       "      <td>-62.1875</td>\n",
       "      <td>-30.442301</td>\n",
       "      <td>75</td>\n",
       "      <td>32.055</td>\n",
       "      <td>21.653</td>\n",
       "      <td>10.099693</td>\n",
       "      <td>3.182952</td>\n",
       "      <td>0.810696</td>\n",
       "      <td>20.985752</td>\n",
       "      <td>NaN</td>\n",
       "    </tr>\n",
       "    <tr>\n",
       "      <th>2</th>\n",
       "      <td>1979-01-03</td>\n",
       "      <td>-62.1875</td>\n",
       "      <td>-30.442301</td>\n",
       "      <td>75</td>\n",
       "      <td>32.643</td>\n",
       "      <td>19.994</td>\n",
       "      <td>0.000000</td>\n",
       "      <td>3.529763</td>\n",
       "      <td>0.638956</td>\n",
       "      <td>28.406983</td>\n",
       "      <td>NaN</td>\n",
       "    </tr>\n",
       "    <tr>\n",
       "      <th>3</th>\n",
       "      <td>1979-01-04</td>\n",
       "      <td>-62.1875</td>\n",
       "      <td>-30.442301</td>\n",
       "      <td>75</td>\n",
       "      <td>33.438</td>\n",
       "      <td>19.572</td>\n",
       "      <td>0.000000</td>\n",
       "      <td>3.430782</td>\n",
       "      <td>0.480420</td>\n",
       "      <td>30.222842</td>\n",
       "      <td>NaN</td>\n",
       "    </tr>\n",
       "    <tr>\n",
       "      <th>4</th>\n",
       "      <td>1979-01-05</td>\n",
       "      <td>-62.1875</td>\n",
       "      <td>-30.442301</td>\n",
       "      <td>75</td>\n",
       "      <td>35.729</td>\n",
       "      <td>20.306</td>\n",
       "      <td>0.000000</td>\n",
       "      <td>3.149614</td>\n",
       "      <td>0.445070</td>\n",
       "      <td>30.734881</td>\n",
       "      <td>NaN</td>\n",
       "    </tr>\n",
       "  </tbody>\n",
       "</table>\n",
       "</div>"
      ],
      "text/plain": [
       "        Date  Longitude   Latitude  Elevation  Max Temperature  \\\n",
       "0 1979-01-01   -62.1875 -30.442301         75           34.968   \n",
       "1 1979-01-02   -62.1875 -30.442301         75           32.055   \n",
       "2 1979-01-03   -62.1875 -30.442301         75           32.643   \n",
       "3 1979-01-04   -62.1875 -30.442301         75           33.438   \n",
       "4 1979-01-05   -62.1875 -30.442301         75           35.729   \n",
       "\n",
       "   Min Temperature  Precipitation      Wind  Relative Humidity      Solar  \\\n",
       "0           18.019       0.346756  3.459731           0.539945  32.456311   \n",
       "1           21.653      10.099693  3.182952           0.810696  20.985752   \n",
       "2           19.994       0.000000  3.529763           0.638956  28.406983   \n",
       "3           19.572       0.000000  3.430782           0.480420  30.222842   \n",
       "4           20.306       0.000000  3.149614           0.445070  30.734881   \n",
       "\n",
       "   Unnamed: 10  \n",
       "0          NaN  \n",
       "1          NaN  \n",
       "2          NaN  \n",
       "3          NaN  \n",
       "4          NaN  "
      ]
     },
     "execution_count": 8,
     "metadata": {},
     "output_type": "execute_result"
    }
   ],
   "source": [
    "df_weather.head(5)"
   ]
  },
  {
   "cell_type": "markdown",
   "metadata": {},
   "source": [
    "Vemos que ha cambiado la forma en que se reportan los registros para el atributo 'Date'."
   ]
  },
  {
   "cell_type": "markdown",
   "metadata": {},
   "source": [
    "Creamos un nuevo atributo 'Day' dado por el día de la semana al que corresponde 'Date'."
   ]
  },
  {
   "cell_type": "code",
   "execution_count": 9,
   "metadata": {},
   "outputs": [
    {
     "data": {
      "text/html": [
       "<div>\n",
       "<style scoped>\n",
       "    .dataframe tbody tr th:only-of-type {\n",
       "        vertical-align: middle;\n",
       "    }\n",
       "\n",
       "    .dataframe tbody tr th {\n",
       "        vertical-align: top;\n",
       "    }\n",
       "\n",
       "    .dataframe thead th {\n",
       "        text-align: right;\n",
       "    }\n",
       "</style>\n",
       "<table border=\"1\" class=\"dataframe\">\n",
       "  <thead>\n",
       "    <tr style=\"text-align: right;\">\n",
       "      <th></th>\n",
       "      <th>Date</th>\n",
       "      <th>Longitude</th>\n",
       "      <th>Latitude</th>\n",
       "      <th>Elevation</th>\n",
       "      <th>Max Temperature</th>\n",
       "      <th>Min Temperature</th>\n",
       "      <th>Precipitation</th>\n",
       "      <th>Wind</th>\n",
       "      <th>Relative Humidity</th>\n",
       "      <th>Solar</th>\n",
       "      <th>Unnamed: 10</th>\n",
       "      <th>Day</th>\n",
       "    </tr>\n",
       "  </thead>\n",
       "  <tbody>\n",
       "    <tr>\n",
       "      <th>0</th>\n",
       "      <td>1979-01-01</td>\n",
       "      <td>-62.1875</td>\n",
       "      <td>-30.442301</td>\n",
       "      <td>75</td>\n",
       "      <td>34.968</td>\n",
       "      <td>18.019</td>\n",
       "      <td>0.346756</td>\n",
       "      <td>3.459731</td>\n",
       "      <td>0.539945</td>\n",
       "      <td>32.456311</td>\n",
       "      <td>NaN</td>\n",
       "      <td>Lunes</td>\n",
       "    </tr>\n",
       "    <tr>\n",
       "      <th>1</th>\n",
       "      <td>1979-01-02</td>\n",
       "      <td>-62.1875</td>\n",
       "      <td>-30.442301</td>\n",
       "      <td>75</td>\n",
       "      <td>32.055</td>\n",
       "      <td>21.653</td>\n",
       "      <td>10.099693</td>\n",
       "      <td>3.182952</td>\n",
       "      <td>0.810696</td>\n",
       "      <td>20.985752</td>\n",
       "      <td>NaN</td>\n",
       "      <td>Martes</td>\n",
       "    </tr>\n",
       "    <tr>\n",
       "      <th>2</th>\n",
       "      <td>1979-01-03</td>\n",
       "      <td>-62.1875</td>\n",
       "      <td>-30.442301</td>\n",
       "      <td>75</td>\n",
       "      <td>32.643</td>\n",
       "      <td>19.994</td>\n",
       "      <td>0.000000</td>\n",
       "      <td>3.529763</td>\n",
       "      <td>0.638956</td>\n",
       "      <td>28.406983</td>\n",
       "      <td>NaN</td>\n",
       "      <td>Miércoles</td>\n",
       "    </tr>\n",
       "    <tr>\n",
       "      <th>3</th>\n",
       "      <td>1979-01-04</td>\n",
       "      <td>-62.1875</td>\n",
       "      <td>-30.442301</td>\n",
       "      <td>75</td>\n",
       "      <td>33.438</td>\n",
       "      <td>19.572</td>\n",
       "      <td>0.000000</td>\n",
       "      <td>3.430782</td>\n",
       "      <td>0.480420</td>\n",
       "      <td>30.222842</td>\n",
       "      <td>NaN</td>\n",
       "      <td>Jueves</td>\n",
       "    </tr>\n",
       "    <tr>\n",
       "      <th>4</th>\n",
       "      <td>1979-01-05</td>\n",
       "      <td>-62.1875</td>\n",
       "      <td>-30.442301</td>\n",
       "      <td>75</td>\n",
       "      <td>35.729</td>\n",
       "      <td>20.306</td>\n",
       "      <td>0.000000</td>\n",
       "      <td>3.149614</td>\n",
       "      <td>0.445070</td>\n",
       "      <td>30.734881</td>\n",
       "      <td>NaN</td>\n",
       "      <td>Viernes</td>\n",
       "    </tr>\n",
       "  </tbody>\n",
       "</table>\n",
       "</div>"
      ],
      "text/plain": [
       "        Date  Longitude   Latitude  Elevation  Max Temperature  \\\n",
       "0 1979-01-01   -62.1875 -30.442301         75           34.968   \n",
       "1 1979-01-02   -62.1875 -30.442301         75           32.055   \n",
       "2 1979-01-03   -62.1875 -30.442301         75           32.643   \n",
       "3 1979-01-04   -62.1875 -30.442301         75           33.438   \n",
       "4 1979-01-05   -62.1875 -30.442301         75           35.729   \n",
       "\n",
       "   Min Temperature  Precipitation      Wind  Relative Humidity      Solar  \\\n",
       "0           18.019       0.346756  3.459731           0.539945  32.456311   \n",
       "1           21.653      10.099693  3.182952           0.810696  20.985752   \n",
       "2           19.994       0.000000  3.529763           0.638956  28.406983   \n",
       "3           19.572       0.000000  3.430782           0.480420  30.222842   \n",
       "4           20.306       0.000000  3.149614           0.445070  30.734881   \n",
       "\n",
       "   Unnamed: 10        Day  \n",
       "0          NaN      Lunes  \n",
       "1          NaN     Martes  \n",
       "2          NaN  Miércoles  \n",
       "3          NaN     Jueves  \n",
       "4          NaN    Viernes  "
      ]
     },
     "execution_count": 9,
     "metadata": {},
     "output_type": "execute_result"
    }
   ],
   "source": [
    "df_weather['Day'] = df_weather['Date'].dt.dayofweek\n",
    "days = ['Lunes', 'Martes', 'Miércoles', 'Jueves', 'Viernes', 'Sábado', 'Domingo']\n",
    "df_weather['Day'] = df_weather['Day'].replace([0, 1, 2, 3, 4, 5, 6], days)\n",
    "df_weather.head(5)"
   ]
  },
  {
   "cell_type": "markdown",
   "metadata": {},
   "source": [
    "Calculamos la cantidad de lunes en la muestra"
   ]
  },
  {
   "cell_type": "code",
   "execution_count": 10,
   "metadata": {},
   "outputs": [
    {
     "name": "stdout",
     "output_type": "stream",
     "text": [
      "Hay en total 1856 lunes en la muestra.\n"
     ]
    }
   ],
   "source": [
    "print(f\"Hay en total {sum(df_weather['Day'] == 'Lunes')} lunes en la muestra.\")"
   ]
  },
  {
   "cell_type": "markdown",
   "metadata": {},
   "source": [
    "## **Ejercicio 2**"
   ]
  },
  {
   "cell_type": "markdown",
   "metadata": {},
   "source": [
    "#### 1. Calculamos la cantidad de precipitación para los días sábado y domingo"
   ]
  },
  {
   "cell_type": "code",
   "execution_count": 11,
   "metadata": {},
   "outputs": [],
   "source": [
    "Prec_sab_total = sum(df_weather[df_weather['Day'] == 'Sábado']['Precipitation'])\n",
    "Prec_dom_total = sum(df_weather[df_weather['Day'] == 'Domingo']['Precipitation'])"
   ]
  },
  {
   "cell_type": "markdown",
   "metadata": {},
   "source": [
    "Calculamos el promedio de precipitación"
   ]
  },
  {
   "cell_type": "code",
   "execution_count": 12,
   "metadata": {},
   "outputs": [
    {
     "name": "stdout",
     "output_type": "stream",
     "text": [
      "Promedio de precipitación durante los sábados y domingos: 0.3162117222117813.\n"
     ]
    }
   ],
   "source": [
    "Prec_prom = (Prec_sab_total + Prec_dom_total)/(len(df_weather['Day'] == 'Domingo') + len(df_weather['Day'] == 'Sábado'))\n",
    "print(f\"Promedio de precipitación durante los sábados y domingos: {Prec_prom}.\")"
   ]
  },
  {
   "cell_type": "markdown",
   "metadata": {},
   "source": [
    "## **Ejercicio 3**"
   ]
  },
  {
   "cell_type": "markdown",
   "metadata": {},
   "source": [
    "De la exploración del dataset se puede ver que las coordenadas geográficas son las mismas para todos los registros. Vamos a verificarlo."
   ]
  },
  {
   "cell_type": "code",
   "execution_count": 13,
   "metadata": {},
   "outputs": [
    {
     "name": "stdout",
     "output_type": "stream",
     "text": [
      "Lontitud promedio durante todos los días miércoles: -62.1875.\n"
     ]
    }
   ],
   "source": [
    "Long_prom = df_weather[df_weather['Day'] == 'Miércoles']['Longitude'].mean()\n",
    "print(f\"Lontitud promedio durante todos los días miércoles: {Long_prom}.\")"
   ]
  },
  {
   "cell_type": "markdown",
   "metadata": {},
   "source": [
    "Este valor es el único para todo el dataset"
   ]
  },
  {
   "cell_type": "code",
   "execution_count": 14,
   "metadata": {},
   "outputs": [
    {
     "data": {
      "text/plain": [
       "array([-62.1875])"
      ]
     },
     "execution_count": 14,
     "metadata": {},
     "output_type": "execute_result"
    }
   ],
   "source": [
    "df_weather['Longitude'].unique()"
   ]
  }
 ],
 "metadata": {
  "kernelspec": {
   "display_name": "Python 3 (ipykernel)",
   "language": "python",
   "name": "python3"
  },
  "language_info": {
   "codemirror_mode": {
    "name": "ipython",
    "version": 3
   },
   "file_extension": ".py",
   "mimetype": "text/x-python",
   "name": "python",
   "nbconvert_exporter": "python",
   "pygments_lexer": "ipython3",
   "version": "3.8.13"
  }
 },
 "nbformat": 4,
 "nbformat_minor": 4
}
